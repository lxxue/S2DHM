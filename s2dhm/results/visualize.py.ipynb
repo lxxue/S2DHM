{
 "cells": [
  {
   "cell_type": "code",
   "execution_count": 1,
   "metadata": {},
   "outputs": [],
   "source": [
    "import numpy as np\n",
    "import os\n",
    "import matplotlib.pyplot as plt"
   ]
  },
  {
   "cell_type": "code",
   "execution_count": 2,
   "metadata": {},
   "outputs": [
    {
     "data": {
      "text/plain": [
       "['gnnet_error_sun.npy',\n",
       " 'retrieval_num_inliers.npy',\n",
       " 'retrieval_error.npy',\n",
       " 'retrieval_error_sun.npy',\n",
       " '.ipynb_checkpoints',\n",
       " 'retrieval_sun_output.txt',\n",
       " 'retrieval_num_inliers_sun.npy',\n",
       " 'Untitled.ipynb',\n",
       " 'gnnet_num_inliers_sun.npy',\n",
       " 'retrieval_output.txt']"
      ]
     },
     "execution_count": 2,
     "metadata": {},
     "output_type": "execute_result"
    }
   ],
   "source": [
    "os.listdir(\".\")"
   ]
  },
  {
   "cell_type": "code",
   "execution_count": 14,
   "metadata": {},
   "outputs": [],
   "source": [
    "retrieval_pose_error = np.load(\"retrieval_error.npy\")"
   ]
  },
  {
   "cell_type": "code",
   "execution_count": 5,
   "metadata": {},
   "outputs": [
    {
     "name": "stdout",
     "output_type": "stream",
     "text": [
      "0.06005221932114883\n"
     ]
    }
   ],
   "source": [
    "mask0 = np.logical_and(retrieval_pose_error[:, 0] < 2, retrieval_pose_error[:, 1] < 0.25)\n",
    "print(sum(mask0) / len(retrieval_pose_error))"
   ]
  },
  {
   "cell_type": "code",
   "execution_count": 6,
   "metadata": {},
   "outputs": [
    {
     "name": "stdout",
     "output_type": "stream",
     "text": [
      "0.2804484718169252\n"
     ]
    }
   ],
   "source": [
    "mask1 = np.logical_and(retrieval_pose_error[:, 0] < 5, retrieval_pose_error[:, 1] < 0.5)\n",
    "print(sum(mask1) / len(retrieval_pose_error))"
   ]
  },
  {
   "cell_type": "code",
   "execution_count": 7,
   "metadata": {},
   "outputs": [
    {
     "name": "stdout",
     "output_type": "stream",
     "text": [
      "0.9910919981569651\n"
     ]
    }
   ],
   "source": [
    "mask2 = np.logical_and(retrieval_pose_error[:, 0] < 10, retrieval_pose_error[:, 1] < 5)\n",
    "print(sum(mask2) / len(retrieval_pose_error))"
   ]
  },
  {
   "cell_type": "code",
   "execution_count": 17,
   "metadata": {},
   "outputs": [
    {
     "name": "stdout",
     "output_type": "stream",
     "text": [
      "0.5345080763582967\n",
      "0.9515418502202643\n",
      "0.9970631424375918\n"
     ]
    }
   ],
   "source": [
    "retrieval_pose_error = np.load(\"retrieval_error_sun.npy\")\n",
    "mask0 = np.logical_and(retrieval_pose_error[:, 0] < 2, retrieval_pose_error[:, 1] < 0.25)\n",
    "print(sum(mask0) / len(retrieval_pose_error))\n",
    "mask1 = np.logical_and(retrieval_pose_error[:, 0] < 5, retrieval_pose_error[:, 1] < 0.5)\n",
    "print(sum(mask1) / len(retrieval_pose_error))\n",
    "mask2 = np.logical_and(retrieval_pose_error[:, 0] < 10, retrieval_pose_error[:, 1] < 5)\n",
    "print(sum(mask2) / len(retrieval_pose_error))"
   ]
  },
  {
   "cell_type": "code",
   "execution_count": 15,
   "metadata": {},
   "outputs": [
    {
     "name": "stdout",
     "output_type": "stream",
     "text": [
      "0.5008447243127016\n",
      "0.9087697742282291\n",
      "0.9953924128398095\n"
     ]
    }
   ],
   "source": [
    "print(sum(retrieval_pose_error[:, 0] < 2) / len(retrieval_pose_error))\n",
    "print(sum(retrieval_pose_error[:, 0] < 5) / len(retrieval_pose_error))\n",
    "print(sum(retrieval_pose_error[:, 0] < 10) / len(retrieval_pose_error))"
   ]
  },
  {
   "cell_type": "code",
   "execution_count": 20,
   "metadata": {},
   "outputs": [
    {
     "name": "stdout",
     "output_type": "stream",
     "text": [
      "0.05433186490455213\n",
      "0.26725403817914833\n",
      "0.9985315712187959\n"
     ]
    }
   ],
   "source": [
    "print(sum(retrieval_pose_error[:, 1] < 0.25) / len(retrieval_pose_error))\n",
    "print(sum(retrieval_pose_error[:, 1] < 0.5) / len(retrieval_pose_error))\n",
    "print(sum(retrieval_pose_error[:, 1] < 5) / len(retrieval_pose_error))"
   ]
  },
  {
   "cell_type": "code",
   "execution_count": 21,
   "metadata": {},
   "outputs": [
    {
     "data": {
      "text/plain": [
       "['gnnet_error_sun.npy',\n",
       " 'retrieval_num_inliers.npy',\n",
       " 'retrieval_error.npy',\n",
       " 'retrieval_error_sun.npy',\n",
       " '.ipynb_checkpoints',\n",
       " 'retrieval_sun_output.txt',\n",
       " 'retrieval_num_inliers_sun.npy',\n",
       " 'gnnet_num_inliers_sun.npy',\n",
       " 'visualize.py.ipynb',\n",
       " 'retrieval_output.txt']"
      ]
     },
     "execution_count": 21,
     "metadata": {},
     "output_type": "execute_result"
    }
   ],
   "source": [
    "os.listdir(\".\")"
   ]
  },
  {
   "cell_type": "code",
   "execution_count": 23,
   "metadata": {},
   "outputs": [
    {
     "name": "stdout",
     "output_type": "stream",
     "text": [
      "99.16446402349486\n"
     ]
    }
   ],
   "source": [
    "retrieval_num_inliers = np.load(\"retrieval_num_inliers_sun.npy\")\n",
    "print(retrieval_num_inliers.mean())"
   ]
  },
  {
   "cell_type": "code",
   "execution_count": 24,
   "metadata": {},
   "outputs": [
    {
     "name": "stdout",
     "output_type": "stream",
     "text": [
      "64.54919236417034\n"
     ]
    }
   ],
   "source": [
    "gnnet_num_inliers_sun = np.load(\"gnnet_num_inliers_sun.npy\")\n",
    "print(gnnet_num_inliers_sun.mean())"
   ]
  },
  {
   "cell_type": "code",
   "execution_count": null,
   "metadata": {},
   "outputs": [],
   "source": []
  }
 ],
 "metadata": {
  "kernelspec": {
   "display_name": "Python 3",
   "language": "python",
   "name": "python3"
  },
  "language_info": {
   "codemirror_mode": {
    "name": "ipython",
    "version": 3
   },
   "file_extension": ".py",
   "mimetype": "text/x-python",
   "name": "python",
   "nbconvert_exporter": "python",
   "pygments_lexer": "ipython3",
   "version": "3.7.6"
  }
 },
 "nbformat": 4,
 "nbformat_minor": 4
}
